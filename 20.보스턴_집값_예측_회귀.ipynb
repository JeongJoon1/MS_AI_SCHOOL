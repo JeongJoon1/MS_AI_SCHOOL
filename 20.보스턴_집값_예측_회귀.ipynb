{
  "cells": [
    {
      "cell_type": "markdown",
      "metadata": {
        "colab_type": "text",
        "id": "view-in-github"
      },
      "source": [
        "<a href=\"https://colab.research.google.com/github/SeungHyunKee/Python/blob/main/%EB%B3%B4%EC%8A%A4%ED%84%B4_%EC%A7%91%EA%B0%92_%EC%98%88%EC%B8%A1_%ED%9A%8C%EA%B7%80sh.ipynb\" target=\"_parent\"><img src=\"https://colab.research.google.com/assets/colab-badge.svg\" alt=\"Open In Colab\"/></a>"
      ]
    },
    {
      "cell_type": "code",
      "execution_count": 1,
      "metadata": {
        "id": "IsgACN0B7slp"
      },
      "outputs": [],
      "source": [
        "import keras\n",
        "import numpy as np\n",
        "import matplotlib.pyplot as plt"
      ]
    },
    {
      "cell_type": "code",
      "execution_count": 2,
      "metadata": {
        "id": "z2UjX37qzkAo"
      },
      "outputs": [],
      "source": [
        "# 보스턴 주택가격 데이터셋\n",
        "\n",
        "# 데이터포인트 : 506개 - 이중 404개 : 훈련샘플, 102개 : 테스트샘플\n",
        "# 입력데이터에있는 각 특성(ex.범죄율)은 스케일이 서로 다름(0~1의 비율 or 1~12 or 1~100)\n",
        "\n",
        "from keras.datasets import boston_housing\n",
        "(train_data, train_labels), (test_data, test_labels) = boston_housing.load_data()"
      ]
    },
    {
      "cell_type": "code",
      "execution_count": 3,
      "metadata": {
        "colab": {
          "base_uri": "https://localhost:8080/"
        },
        "id": "G2oZof00zz7M",
        "outputId": "d933be8e-3f80-4e8c-90fd-e8588733a1a0"
      },
      "outputs": [
        {
          "data": {
            "text/plain": [
              "(404, 13)"
            ]
          },
          "execution_count": 3,
          "metadata": {},
          "output_type": "execute_result"
        }
      ],
      "source": [
        "train_data.shape"
      ]
    },
    {
      "cell_type": "code",
      "execution_count": 4,
      "metadata": {
        "colab": {
          "base_uri": "https://localhost:8080/"
        },
        "id": "CmPuavAbz0Lm",
        "outputId": "7ce23f6a-9623-4a74-f90a-83269c3c7f85"
      },
      "outputs": [
        {
          "data": {
            "text/plain": [
              "(102, 13)"
            ]
          },
          "execution_count": 4,
          "metadata": {},
          "output_type": "execute_result"
        }
      ],
      "source": [
        "test_data.shape"
      ]
    },
    {
      "cell_type": "code",
      "execution_count": 5,
      "metadata": {
        "id": "cnioua8pz0hJ"
      },
      "outputs": [
        {
          "name": "stdout",
          "output_type": "stream",
          "text": [
            "[3.74511057e+00 1.14801980e+01 1.11044307e+01 6.18811881e-02\n",
            " 5.57355941e-01 6.26708168e+00 6.90106436e+01 3.74027079e+00\n",
            " 9.44059406e+00 4.05898515e+02 1.84759901e+01 3.54783168e+02\n",
            " 1.27408168e+01]\n"
          ]
        }
      ],
      "source": [
        "# 데이터 정규화 : 사이킷런의 패키지 가져와 써도 되지만 데이터 전처리를 하여 코드 작성\n",
        "mean = train_data.mean(axis=0)\n",
        "print(mean)"
      ]
    },
    {
      "cell_type": "markdown",
      "metadata": {
        "id": "fQQf-ns50axY"
      },
      "source": [
        "데이터 정규화 시키는(스케일링) 방법\n",
        "1. MinMax 스케일링 -> 데이터 범위가 0~1사이로 변경됨\n",
        "2. z-정규화를 이용한standard 스케일링 -> 데이터의 평균이 0, 표준편차가 1이되도록 스케일링 함"
      ]
    },
    {
      "cell_type": "code",
      "execution_count": 6,
      "metadata": {
        "id": "qUB1oJrs0CZ7"
      },
      "outputs": [],
      "source": [
        "# standard scaling 사용, data의 평균 = 0, 각 데이터에서 평균을 빼고 표준편차를 나눠주면된다.\n",
        "\n",
        "train_data -= mean   # 전체 데이터의 평균값"
      ]
    },
    {
      "cell_type": "code",
      "execution_count": 7,
      "metadata": {
        "id": "KW-Crzmb11k0"
      },
      "outputs": [],
      "source": [
        "# 표준편차 구하기\n",
        "std = train_data.std(axis=0)  # axis = 0 인 이유 : 데이터를 표의 가로로 한줄씩 보는것이 axis=0, 세로로보는게 axis=1\n",
        "                              # 하나의 데이터는 가로로 한줄이므로 컬럼별로 평균을 내기위해서는 axis=0을 해야한다"
      ]
    },
    {
      "cell_type": "code",
      "execution_count": 8,
      "metadata": {
        "id": "s3PlZQB-3BuW"
      },
      "outputs": [],
      "source": [
        "train_data /= std   # 표준 정규화가 되어있는 training data가 준비되어있는것"
      ]
    },
    {
      "cell_type": "code",
      "execution_count": 9,
      "metadata": {
        "colab": {
          "base_uri": "https://localhost:8080/"
        },
        "id": "uLcq-lI43Sv8",
        "outputId": "2b766c63-8b91-43a0-d7d2-902cdbd87f2f"
      },
      "outputs": [
        {
          "data": {
            "text/plain": [
              "array([[-0.27224633, -0.48361547, -0.43576161, ...,  1.14850044,\n",
              "         0.44807713,  0.8252202 ],\n",
              "       [-0.40342651,  2.99178419, -1.33391162, ..., -1.71818909,\n",
              "         0.43190599, -1.32920239],\n",
              "       [ 0.1249402 , -0.48361547,  1.0283258 , ...,  0.78447637,\n",
              "         0.22061726, -1.30850006],\n",
              "       ...,\n",
              "       [-0.40202987,  0.99079651, -0.7415148 , ..., -0.71712291,\n",
              "         0.07943894, -0.67776904],\n",
              "       [-0.17292018, -0.48361547,  1.24588095, ..., -1.71818909,\n",
              "        -0.98764362,  0.42083466],\n",
              "       [-0.40422614,  2.04394792, -1.20161456, ..., -1.30866202,\n",
              "         0.23317118, -1.15392266]])"
            ]
          },
          "execution_count": 9,
          "metadata": {},
          "output_type": "execute_result"
        }
      ],
      "source": [
        "train_data"
      ]
    },
    {
      "cell_type": "code",
      "execution_count": 10,
      "metadata": {
        "id": "MyzN_dqy3ZD5"
      },
      "outputs": [],
      "source": [
        "mean = test_data.mean(axis=0) #0번축으로 평균을 구해놓음\n",
        "test_data -= mean\n",
        "std = test_data.std(axis = 0)  #  표준편차(std) 구하는것, std가 0이면 모든값이 같은것 = 좋지못한 의미없는 데이터\n",
        "test_data /= std   # 이렇게하면 테스트데이터도 정규화가 됨"
      ]
    },
    {
      "cell_type": "code",
      "execution_count": 11,
      "metadata": {
        "colab": {
          "base_uri": "https://localhost:8080/"
        },
        "id": "pl78qUnn4CSO",
        "outputId": "4829b723-b96f-480f-b83d-3ac1d94ea395"
      },
      "outputs": [
        {
          "data": {
            "text/plain": [
              "array([[ 2.8040301 , -0.50784934,  0.96960877, ...,  0.90513041,\n",
              "        -4.27829517,  2.51324773],\n",
              "       [-0.55530596, -0.50784934, -0.17801704, ..., -0.28485844,\n",
              "         0.3909446 ,  0.58604286],\n",
              "       [-0.56808398, -0.50784934, -0.86176938, ...,  0.90513041,\n",
              "         0.41570668, -0.38506427],\n",
              "       ...,\n",
              "       [-0.23539182, -0.50784934,  1.17955762, ..., -1.82192738,\n",
              "         0.32313459, -1.55879807],\n",
              "       [-0.5113909 , -0.50784934, -0.71849348, ..., -0.48318992,\n",
              "         0.34967446, -0.38956708],\n",
              "       [-0.03148414, -0.50784934,  1.17955762, ..., -1.82192738,\n",
              "        -1.57465677, -0.3745577 ]])"
            ]
          },
          "execution_count": 11,
          "metadata": {},
          "output_type": "execute_result"
        }
      ],
      "source": [
        "test_data   \n",
        " # 이렇게되면 금액에 따라서가 아닌 비율에 따라 수치가 정해짐"
      ]
    },
    {
      "cell_type": "code",
      "execution_count": 12,
      "metadata": {
        "id": "fsR96e034DBA"
      },
      "outputs": [],
      "source": [
        "# 신경망을 만든다.\n",
        "from keras import models\n",
        "from keras import layers\n",
        "\n",
        "# 신경망을 함수로 만들어보기\n",
        "def build_model() :\n",
        "  model = models.Sequential()\n",
        "\n",
        "  # 첫번째 layer 추가\n",
        "  model.add(layers.Dense(64, activation = 'relu', input_shape=(train_data.shape[1], )))  # shape[1]=13=학습용데이터의 모양이 그대로 전달됨\n",
        "  #input=들어오는 train(학습용)데이터모양 그대로 사용! (자동으로 input의 데이터가 지정이 됨)\n",
        "  \n",
        "  # 두번째 layer 추가\n",
        "  model.add(layers.Dense(64, activation = 'relu'))\n",
        "\n",
        "  # 마지막 layer\n",
        "  model.add(layers.Dense(1)) # 예측한집값이 하나이기때문, regression에서 마지막 레이어는 활성함수가 없어도된다. 입력값 그대로 출력값이 된다.\n",
        "\n",
        "  model.compile(optimizer = 'rmsprop', # 최적화하는 함수는 rmsprop 쓰기\n",
        "                            loss = 'mse',   # mse = mean squared error \n",
        "                            metrics = ['mae'])  # mean absolute error\n",
        "  \n",
        "  return model    \n",
        "  # 이 모델을 받아서 바로 활용할수있는 형태가 됨"
      ]
    },
    {
      "cell_type": "code",
      "execution_count": 13,
      "metadata": {
        "colab": {
          "base_uri": "https://localhost:8080/"
        },
        "id": "Qj3OKtw78TH8",
        "outputId": "0b12d0bd-331c-43a2-f727-b4ca502e32a5"
      },
      "outputs": [
        {
          "name": "stdout",
          "output_type": "stream",
          "text": [
            "처리중인 폴드 # 0\n",
            "처리중인 폴드 # 1\n",
            "처리중인 폴드 # 2\n",
            "처리중인 폴드 # 3\n"
          ]
        }
      ],
      "source": [
        "#K-folder 검증  (데이터의수가 작을때 사용할수있는 방법 )   k = 데이터를 분할하는 개수\n",
        "\n",
        "k = 4\n",
        "\n",
        "num_val_samples = len(train_data) // k   # k = 폴더의 사이즈\n",
        " # 전체train데이터를 k로 나누기, # //k = 나머지는 버리기\n",
        "all_scores = []\n",
        "\n",
        "for i in range(k):  # k번만큼 반복하게 만들기\n",
        "  print('처리중인 폴드 #',i)   # 돌아가는게 오래걸리므로 중간중간 어디쯤인지 알려주기 위함\n",
        "\n",
        "  # 검증 데이터를 준비: k번째 분할\n",
        "  # 슬라이싱 하는것(0:101)\n",
        "\n",
        "  # 4가지 폴드로 데이터를 분할\n",
        "  # 검증 훈련 훈련 훈련\n",
        "  # 훈련 검증 훈련 훈련\n",
        "  # 훈련 훈련 검증 훈련\n",
        "  # 훈련 훈련 훈련 검증\n",
        "\n",
        "  # 검증용 데이터 준비\n",
        "  # training 데이터에서 첫번쨰 블록이 검증용 데이터가 됨\n",
        "  val_data = train_data[i * num_val_samples : (i+1) * num_val_samples]\n",
        "  # 검증용데이터의 라벨값 가져오기 \n",
        "  val_labels = train_labels[i * num_val_samples : (i+1) * num_val_samples]\n",
        "  \n",
        "\n",
        "  # 훈련 데이터의 준비  ( 검증 데이터 양쪽에 있는 부분을 합쳐서 만든다)\n",
        "  partial_train_data = np.concatenate(  # np.concatenate = 아래의 2가지 범위로 슬라이싱한것들을 합쳐줌\n",
        "    # 검증데이터 기준으로 앞에있는 훈련데이터 모두\n",
        "    [train_data[: i * num_val_samples],   # 처음엔 i=0에서부터 가져오므로 아무것도 안가져오게됨\n",
        "   # 검증데이터 기준으로 뒤에있는 훈련데이터 모두\n",
        "    train_data[(i+1)*num_val_samples:]], axis=0)\n",
        "  \n",
        "  # 훈련 데이터와 마찬가지로, label데이터도 동일한 방식으로 준비\n",
        "  partial_train_labels = np.concatenate(\n",
        "    [train_labels[: i * num_val_samples],\n",
        "    train_labels[(i+1)*num_val_samples:]], axis=0)\n",
        "\n",
        "  model = build_model()\n",
        "  model.fit(partial_train_data,\n",
        "            partial_train_labels,\n",
        "            epochs=20,   # 20*4, 총 80번 돌아감\n",
        "            batch_size=1,\n",
        "            verbose=0)  # verbose = 0을 써주면 80번 돌아가는 과정 다 안보여줌. 아래의4가지값만 보여줌\n",
        "  \n",
        "  val_mse, val_mae = model.evaluate(val_data, val_labels,verbose=0)\n",
        "  all_scores.append(val_mae)\n"
      ]
    },
    {
      "cell_type": "code",
      "execution_count": 14,
      "metadata": {
        "colab": {
          "base_uri": "https://localhost:8080/"
        },
        "id": "z5X7b9vN7rNj",
        "outputId": "09a44df6-7447-4f70-aba2-55ec7a93262e"
      },
      "outputs": [
        {
          "data": {
            "text/plain": [
              "[1.830942153930664, 2.624541997909546, 2.6270604133605957, 2.459735631942749]"
            ]
          },
          "execution_count": 14,
          "metadata": {},
          "output_type": "execute_result"
        }
      ],
      "source": [
        "all_scores   # 각 폴드의 mae 값"
      ]
    },
    {
      "cell_type": "code",
      "execution_count": 15,
      "metadata": {
        "colab": {
          "base_uri": "https://localhost:8080/"
        },
        "id": "ouAC6ldi6pXa",
        "outputId": "c414b59f-0185-45c1-c50a-bc953bb55e5d"
      },
      "outputs": [
        {
          "data": {
            "text/plain": [
              "2.3855700492858887"
            ]
          },
          "execution_count": 15,
          "metadata": {},
          "output_type": "execute_result"
        }
      ],
      "source": [
        "np.mean(all_scores)  # 폴드의 mae값의 평균"
      ]
    },
    {
      "cell_type": "code",
      "execution_count": 16,
      "metadata": {
        "colab": {
          "base_uri": "https://localhost:8080/"
        },
        "id": "LKI8nPl18FZ8",
        "outputId": "0a43193c-ee38-490d-d784-98e6fb4df8c8"
      },
      "outputs": [
        {
          "name": "stdout",
          "output_type": "stream",
          "text": [
            "처리중인 폴드 # 0\n",
            "처리중인 폴드 # 1\n",
            "처리중인 폴드 # 2\n",
            "처리중인 폴드 # 3\n"
          ]
        }
      ],
      "source": [
        "# K-folder 검증, epochs값을 크게하여 더많은 학습을 하는 경우\n",
        "k = 4\n",
        "num_epochs = 500  # 각 폴더마다 500번씩 돌아가게함\n",
        "\n",
        "num_val_samples = len(train_data) // k #폴더의 사이즈\n",
        "all_scores = []\n",
        "\n",
        "for i in range(k):\n",
        "  print('처리중인 폴드 #',i)\n",
        "\n",
        "  # 검증 데이터를 준비: k번째 분할\n",
        "  val_data = train_data[i * num_val_samples : (i+1) * num_val_samples]\n",
        "  val_labels = train_labels[i * num_val_samples : (i+1) * num_val_samples]\n",
        "  \n",
        "  # 훈련 데이터의 준비:\n",
        "  partial_train_data = np.concatenate(\n",
        "    [train_data[: i * num_val_samples],\n",
        "    train_data[(i+1)*num_val_samples:]], axis=0)\n",
        "  \n",
        "  partial_train_labels = np.concatenate(\n",
        "    [train_labels[: i * num_val_samples],\n",
        "    train_labels[(i+1)*num_val_samples:]], axis=0)\n",
        "\n",
        "  model = build_model()\n",
        "  history = model.fit(partial_train_data,   # history라는 변수에 그때그때 값 저장하게끔 한다\n",
        "              partial_train_labels,\n",
        "              epochs=num_epochs,  # 폴더마다 500번 돌아가게함\n",
        "              batch_size=1,\n",
        "              validation_data=(val_data, val_labels),  # fit하면서 바로 검증(valdiation)을 한다\n",
        "              verbose=0)\n",
        "\n",
        "  mae_history = history.history['mae']  # 위와 다른점은 fit하고나서 history에 저장된 값을 변수로 저장\n",
        "  \n",
        "  all_scores.append(mae_history)  # mae_history를 전달한다, 각 epoch마다 mae가 전달된다\n"
      ]
    },
    {
      "cell_type": "code",
      "execution_count": 17,
      "metadata": {
        "id": "T0xhh13o8F9c"
      },
      "outputs": [],
      "source": [
        "average_mae_history = [np.mean([x[i] for x in all_scores]) for i in range(num_epochs)]"
      ]
    },
    {
      "cell_type": "code",
      "execution_count": 18,
      "metadata": {
        "id": "EsS5hoo18JwG"
      },
      "outputs": [
        {
          "data": {
            "text/plain": [
              "Text(0, 0.5, 'Validation MAE')"
            ]
          },
          "execution_count": 18,
          "metadata": {},
          "output_type": "execute_result"
        },
        {
          "data": {
            "image/png": "[encoded data removed]",
            "text/plain": [
              "<Figure size 640x480 with 1 Axes>"
            ]
          },
          "metadata": {},
          "output_type": "display_data"
        }
      ],
      "source": [
        "plt.plot(range(1, len(average_mae_history)+1), average_mae_history)\n",
        "plt.xlabel('Epochs')\n",
        "plt.ylabel('Validation MAE') \n",
        "\n",
        "# 4번반복한걸 평균을 낸 그림, 표를 보면 80번기준까지 값이 낮아지다가 점점 완만해진다."
      ]
    }
  ],
  "metadata": {
    "colab": {
      "authorship_tag": "ABX9TyN0GHZsehQ0N2nbHym/ZZam",
      "include_colab_link": true,
      "provenance": []
    },
    "kernelspec": {
      "display_name": "Python 3.10.8 64-bit",
      "language": "python",
      "name": "python3"
    },
    "language_info": {
      "codemirror_mode": {
        "name": "ipython",
        "version": 3
      },
      "file_extension": ".py",
      "mimetype": "text/x-python",
      "name": "python",
      "nbconvert_exporter": "python",
      "pygments_lexer": "ipython3",
      "version": "3.10.8"
    },
    "vscode": {
      "interpreter": {
        "hash": "f9c8acaf86121ff8330fbcdc5e5f7a927dbfaf7cd3e51e1b75070c28604b6537"
      }
    }
  },
  "nbformat": 4,
  "nbformat_minor": 0
}
